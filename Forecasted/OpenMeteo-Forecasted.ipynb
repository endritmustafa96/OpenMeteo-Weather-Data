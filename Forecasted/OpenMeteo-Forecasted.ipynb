{
 "cells": [
  {
   "cell_type": "markdown",
   "id": "7951c814-28cb-4df3-a482-6b9eb99d9cc7",
   "metadata": {
    "tags": []
   },
   "source": [
    "# OpenMeteo API - Forecasted Data - Last 10 Days"
   ]
  },
  {
   "cell_type": "markdown",
   "id": "163d0b6e-17c6-44ff-a90d-c2eb4f723c03",
   "metadata": {},
   "source": [
    "---\n",
    "\n",
    "API Key: No API Key Required\n",
    "\n",
    "Website: https://open-meteo.com    \n",
    "\n",
    "<img src=\"https://pbs.twimg.com/profile_images/1591121427893190664/LtkaUCDu_400x400.jpg\" width=\"150\" height=\"150\">"
   ]
  },
  {
   "cell_type": "markdown",
   "id": "c0c32ab0-60de-4cd7-8d15-68a207ab4e8c",
   "metadata": {},
   "source": [
    "---"
   ]
  },
  {
   "cell_type": "markdown",
   "id": "f5479d4e-f716-48de-8563-0afcb24fa631",
   "metadata": {},
   "source": [
    "In this notebook we will extract forecasted and last 10 days weather data for Prishtina, Kosovo!"
   ]
  },
  {
   "cell_type": "markdown",
   "id": "aa58daa0-2c71-4676-a9d0-594875178665",
   "metadata": {
    "tags": []
   },
   "source": [
    "## Importing Libraries"
   ]
  },
  {
   "cell_type": "code",
   "execution_count": 1,
   "id": "afc3abb8-85df-4a27-95a3-f66c7e8a5229",
   "metadata": {
    "tags": []
   },
   "outputs": [],
   "source": [
    "import pandas as pd\n",
    "import numpy as np \n",
    "from datetime import date, datetime, time\n",
    "import requests"
   ]
  },
  {
   "cell_type": "markdown",
   "id": "bd327a4f-b793-44f9-8f37-4d30c46cb5ad",
   "metadata": {},
   "source": [
    "## Requesting data from url"
   ]
  },
  {
   "cell_type": "code",
   "execution_count": 16,
   "id": "e7b8e96b-d86f-4bcc-9deb-9acdffc86633",
   "metadata": {
    "tags": []
   },
   "outputs": [
    {
     "name": "stdout",
     "output_type": "stream",
     "text": [
      "Succesfully got the API\n"
     ]
    }
   ],
   "source": [
    "url = 'https://api.open-meteo.com/v1/forecast?latitude=42.6727&longitude=21.1669&past_days=10&hourly=temperature_2m,dewpoint_2m,apparent_temperature,precipitation,rain,snowfall,cloudcover,windspeed_10m,winddirection_10m,windgusts_10m,is_day,shortwave_radiation,direct_radiation,direct_radiation_instant&timezone=Europe%2FBerlin'\n",
    "\n",
    "response = requests.get(url)\n",
    "\n",
    "if response.status_code == 200:\n",
    "    # Parseing the JSON data from the API response\n",
    "    api_data = response.json()\n",
    "    print('Succesfully got the API')\n",
    "else:\n",
    "    print('Faild to get request with response code:', response.status_code)"
   ]
  },
  {
   "cell_type": "markdown",
   "id": "ba4928a0-bf69-4562-b371-421d9efc8a6a",
   "metadata": {
    "tags": []
   },
   "source": [
    "## API Keys"
   ]
  },
  {
   "cell_type": "code",
   "execution_count": 17,
   "id": "c248dd2d-f97d-4065-96cf-21a84fe96b41",
   "metadata": {
    "tags": []
   },
   "outputs": [
    {
     "name": "stdout",
     "output_type": "stream",
     "text": [
      "dict_keys(['latitude', 'longitude', 'generationtime_ms', 'utc_offset_seconds', 'timezone', 'timezone_abbreviation', 'elevation', 'hourly_units', 'hourly'])\n"
     ]
    }
   ],
   "source": [
    "main_keys = api_data.keys()\n",
    "\n",
    "print(main_keys)"
   ]
  },
  {
   "cell_type": "code",
   "execution_count": 18,
   "id": "4f63a4bf-fd8c-40e8-aa97-a3d80e709060",
   "metadata": {
    "tags": []
   },
   "outputs": [
    {
     "name": "stdout",
     "output_type": "stream",
     "text": [
      "dict_keys(['time', 'temperature_2m', 'dewpoint_2m', 'apparent_temperature', 'precipitation', 'rain', 'snowfall', 'cloudcover', 'windspeed_10m', 'winddirection_10m', 'windgusts_10m', 'is_day', 'shortwave_radiation', 'direct_radiation', 'direct_radiation_instant'])\n"
     ]
    }
   ],
   "source": [
    "hourly = api_data['hourly'].keys()\n",
    "\n",
    "print(hourly)"
   ]
  },
  {
   "cell_type": "markdown",
   "id": "52e45c62-b612-473f-a0e6-222987519ad9",
   "metadata": {},
   "source": [
    "## Getting data from API"
   ]
  },
  {
   "cell_type": "code",
   "execution_count": 19,
   "id": "042c1a79-ae41-4150-898e-120578e72340",
   "metadata": {
    "tags": []
   },
   "outputs": [],
   "source": [
    "def collect_data(data):\n",
    "    \"\"\"\n",
    "    This function is created to get data (Past 10 Days and Forecasted) from OpenMeteo API\n",
    "    \"\"\"\n",
    "    \n",
    "    # Setting the start time\n",
    "    start_time = datetime.now()\n",
    "    \n",
    "    # Extracting the desired columns\n",
    "    columns = ['time', 'latitude','longitude', 'Location', 'timezone',  'temperature_2m', 'dewpoint_2m', 'apparent_temperature', \n",
    "                'precipitation', 'rain', 'snowfall', 'cloudcover', \n",
    "                'windspeed_10m', 'winddirection_10m', 'windgusts_10m', 'is_day', \n",
    "                'shortwave_radiation', 'direct_radiation', 'direct_radiation_instant',\n",
    "                'Created_Datetime']\n",
    "    \n",
    "    # Createing a list of dictionaries with the selected columns\n",
    "    extracted_data = []\n",
    "    \n",
    "    # Storing creating datetime\n",
    "    Created_DateTime = datetime.now()\n",
    "    \n",
    "    try:\n",
    "    \n",
    "        for i in range(len(api_data['hourly']['time'])):\n",
    "            entry = {}\n",
    "            for column in columns:\n",
    "                if column == 'time':\n",
    "                    entry[column] = api_data['hourly']['time'][i]\n",
    "                elif column in api_data:\n",
    "                    entry[column] = api_data[column]\n",
    "                elif column in api_data['hourly']:\n",
    "                    entry[column] = api_data['hourly'][column][i]\n",
    "                    \n",
    "            entry['Created_Datetime'] = Created_DateTime\n",
    "            entry['Location'] = 'Prishtina'\n",
    "            extracted_data.append(entry)\n",
    "            \n",
    "        df = pd.DataFrame(extracted_data, columns=columns)\n",
    "        \n",
    "        # df operations\n",
    "        df.rename(columns={'time':'Datetime',\n",
    "                           'latitude':'Latitude',\n",
    "                           'longitude':'Longitude',\n",
    "                           'timezone':'TimeZone',\n",
    "                           'temperature_2m':'Temperature(°C)',\n",
    "                           'dewpoint_2m':'Dewpoint(°C)',\n",
    "                           'apparent_temperature':'Apparent_Temperature(°C)',\n",
    "                           'precipitation':'Precipitation(mm)',\n",
    "                           'rain':'Rain(mm)',\n",
    "                           'snowfall':'Snowfall(cm)',\n",
    "                           'cloudcover':'Cloudcover(%)',\n",
    "                           'windspeed_10m':'Windspeed(km/h)',\n",
    "                           'winddirection_10m':'Winddirection(°)',\n",
    "                           'windgusts_10m':'Windgusts(km/h)',\n",
    "                           'is_day':'Is_day',\n",
    "                           'shortwave_radiation':'Shortwave_radiation(W/m²)',\n",
    "                           'direct_radiation':'Direct_radiation(W/m²)',\n",
    "                           'direct_radiation_instant':'Direct_radiation_instant(W/m²)',\n",
    "                           }, inplace = True)\n",
    "        \n",
    "        df['Datetime'] = pd.to_datetime(df['Datetime'])\n",
    "        \n",
    "        print('Weather data is extracted and the df is created succesfully')\n",
    "        \n",
    "    except:\n",
    "        print('There was a problem exctracting data from the API')\n",
    "        \n",
    "        \n",
    "    # Setting the end time\n",
    "    end_time = datetime.now()\n",
    "    duration = end_time - start_time\n",
    "    \n",
    "    print('Total seconds:', duration)\n",
    "        \n",
    "    return df"
   ]
  },
  {
   "cell_type": "code",
   "execution_count": 20,
   "id": "40cb0a53-4c65-4a62-a412-892a668b9bb7",
   "metadata": {
    "tags": []
   },
   "outputs": [
    {
     "name": "stdout",
     "output_type": "stream",
     "text": [
      "Weather data is extracted and the df is created succesfully\n",
      "Total seconds: 0:00:00.011094\n"
     ]
    }
   ],
   "source": [
    "df_forecasted = collect_data(api_data)"
   ]
  },
  {
   "cell_type": "code",
   "execution_count": 21,
   "id": "5687ae1c-44e3-45e7-b79e-4cb66d1622c5",
   "metadata": {
    "tags": []
   },
   "outputs": [
    {
     "data": {
      "text/html": [
       "<div>\n",
       "<style scoped>\n",
       "    .dataframe tbody tr th:only-of-type {\n",
       "        vertical-align: middle;\n",
       "    }\n",
       "\n",
       "    .dataframe tbody tr th {\n",
       "        vertical-align: top;\n",
       "    }\n",
       "\n",
       "    .dataframe thead th {\n",
       "        text-align: right;\n",
       "    }\n",
       "</style>\n",
       "<table border=\"1\" class=\"dataframe\">\n",
       "  <thead>\n",
       "    <tr style=\"text-align: right;\">\n",
       "      <th></th>\n",
       "      <th>Datetime</th>\n",
       "      <th>Latitude</th>\n",
       "      <th>Longitude</th>\n",
       "      <th>Location</th>\n",
       "      <th>TimeZone</th>\n",
       "      <th>Temperature(°C)</th>\n",
       "      <th>Dewpoint(°C)</th>\n",
       "      <th>Apparent_Temperature(°C)</th>\n",
       "      <th>Precipitation(mm)</th>\n",
       "      <th>Rain(mm)</th>\n",
       "      <th>Snowfall(cm)</th>\n",
       "      <th>Cloudcover(%)</th>\n",
       "      <th>Windspeed(km/h)</th>\n",
       "      <th>Winddirection(°)</th>\n",
       "      <th>Windgusts(km/h)</th>\n",
       "      <th>Is_day</th>\n",
       "      <th>Shortwave_radiation(W/m²)</th>\n",
       "      <th>Direct_radiation(W/m²)</th>\n",
       "      <th>Direct_radiation_instant(W/m²)</th>\n",
       "      <th>Created_Datetime</th>\n",
       "    </tr>\n",
       "  </thead>\n",
       "  <tbody>\n",
       "    <tr>\n",
       "      <th>0</th>\n",
       "      <td>2023-10-18 00:00:00</td>\n",
       "      <td>42.75</td>\n",
       "      <td>21.125</td>\n",
       "      <td>Prishtina</td>\n",
       "      <td>Europe/Berlin</td>\n",
       "      <td>7.4</td>\n",
       "      <td>5.4</td>\n",
       "      <td>5.4</td>\n",
       "      <td>0.0</td>\n",
       "      <td>0.0</td>\n",
       "      <td>0.0</td>\n",
       "      <td>100</td>\n",
       "      <td>5.7</td>\n",
       "      <td>18</td>\n",
       "      <td>13.3</td>\n",
       "      <td>0</td>\n",
       "      <td>0.0</td>\n",
       "      <td>0.0</td>\n",
       "      <td>0.0</td>\n",
       "      <td>2023-10-28 18:19:14.500106</td>\n",
       "    </tr>\n",
       "    <tr>\n",
       "      <th>1</th>\n",
       "      <td>2023-10-18 01:00:00</td>\n",
       "      <td>42.75</td>\n",
       "      <td>21.125</td>\n",
       "      <td>Prishtina</td>\n",
       "      <td>Europe/Berlin</td>\n",
       "      <td>7.3</td>\n",
       "      <td>5.2</td>\n",
       "      <td>5.3</td>\n",
       "      <td>0.0</td>\n",
       "      <td>0.0</td>\n",
       "      <td>0.0</td>\n",
       "      <td>100</td>\n",
       "      <td>5.2</td>\n",
       "      <td>16</td>\n",
       "      <td>11.5</td>\n",
       "      <td>0</td>\n",
       "      <td>0.0</td>\n",
       "      <td>0.0</td>\n",
       "      <td>0.0</td>\n",
       "      <td>2023-10-28 18:19:14.500106</td>\n",
       "    </tr>\n",
       "    <tr>\n",
       "      <th>2</th>\n",
       "      <td>2023-10-18 02:00:00</td>\n",
       "      <td>42.75</td>\n",
       "      <td>21.125</td>\n",
       "      <td>Prishtina</td>\n",
       "      <td>Europe/Berlin</td>\n",
       "      <td>6.9</td>\n",
       "      <td>5.5</td>\n",
       "      <td>5.2</td>\n",
       "      <td>0.0</td>\n",
       "      <td>0.0</td>\n",
       "      <td>0.0</td>\n",
       "      <td>100</td>\n",
       "      <td>4.5</td>\n",
       "      <td>14</td>\n",
       "      <td>10.1</td>\n",
       "      <td>0</td>\n",
       "      <td>0.0</td>\n",
       "      <td>0.0</td>\n",
       "      <td>0.0</td>\n",
       "      <td>2023-10-28 18:19:14.500106</td>\n",
       "    </tr>\n",
       "    <tr>\n",
       "      <th>3</th>\n",
       "      <td>2023-10-18 03:00:00</td>\n",
       "      <td>42.75</td>\n",
       "      <td>21.125</td>\n",
       "      <td>Prishtina</td>\n",
       "      <td>Europe/Berlin</td>\n",
       "      <td>6.3</td>\n",
       "      <td>5.3</td>\n",
       "      <td>4.6</td>\n",
       "      <td>0.0</td>\n",
       "      <td>0.0</td>\n",
       "      <td>0.0</td>\n",
       "      <td>100</td>\n",
       "      <td>3.7</td>\n",
       "      <td>11</td>\n",
       "      <td>8.3</td>\n",
       "      <td>0</td>\n",
       "      <td>0.0</td>\n",
       "      <td>0.0</td>\n",
       "      <td>0.0</td>\n",
       "      <td>2023-10-28 18:19:14.500106</td>\n",
       "    </tr>\n",
       "    <tr>\n",
       "      <th>4</th>\n",
       "      <td>2023-10-18 04:00:00</td>\n",
       "      <td>42.75</td>\n",
       "      <td>21.125</td>\n",
       "      <td>Prishtina</td>\n",
       "      <td>Europe/Berlin</td>\n",
       "      <td>5.8</td>\n",
       "      <td>5.0</td>\n",
       "      <td>4.1</td>\n",
       "      <td>0.0</td>\n",
       "      <td>0.0</td>\n",
       "      <td>0.0</td>\n",
       "      <td>95</td>\n",
       "      <td>3.3</td>\n",
       "      <td>13</td>\n",
       "      <td>7.2</td>\n",
       "      <td>0</td>\n",
       "      <td>0.0</td>\n",
       "      <td>0.0</td>\n",
       "      <td>0.0</td>\n",
       "      <td>2023-10-28 18:19:14.500106</td>\n",
       "    </tr>\n",
       "  </tbody>\n",
       "</table>\n",
       "</div>"
      ],
      "text/plain": [
       "             Datetime  Latitude  Longitude   Location       TimeZone  \\\n",
       "0 2023-10-18 00:00:00     42.75     21.125  Prishtina  Europe/Berlin   \n",
       "1 2023-10-18 01:00:00     42.75     21.125  Prishtina  Europe/Berlin   \n",
       "2 2023-10-18 02:00:00     42.75     21.125  Prishtina  Europe/Berlin   \n",
       "3 2023-10-18 03:00:00     42.75     21.125  Prishtina  Europe/Berlin   \n",
       "4 2023-10-18 04:00:00     42.75     21.125  Prishtina  Europe/Berlin   \n",
       "\n",
       "   Temperature(°C)  Dewpoint(°C)  Apparent_Temperature(°C)  Precipitation(mm)  \\\n",
       "0              7.4           5.4                       5.4                0.0   \n",
       "1              7.3           5.2                       5.3                0.0   \n",
       "2              6.9           5.5                       5.2                0.0   \n",
       "3              6.3           5.3                       4.6                0.0   \n",
       "4              5.8           5.0                       4.1                0.0   \n",
       "\n",
       "   Rain(mm)  Snowfall(cm)  Cloudcover(%)  Windspeed(km/h)  Winddirection(°)  \\\n",
       "0       0.0           0.0            100              5.7                18   \n",
       "1       0.0           0.0            100              5.2                16   \n",
       "2       0.0           0.0            100              4.5                14   \n",
       "3       0.0           0.0            100              3.7                11   \n",
       "4       0.0           0.0             95              3.3                13   \n",
       "\n",
       "   Windgusts(km/h)  Is_day  Shortwave_radiation(W/m²)  Direct_radiation(W/m²)  \\\n",
       "0             13.3       0                        0.0                     0.0   \n",
       "1             11.5       0                        0.0                     0.0   \n",
       "2             10.1       0                        0.0                     0.0   \n",
       "3              8.3       0                        0.0                     0.0   \n",
       "4              7.2       0                        0.0                     0.0   \n",
       "\n",
       "   Direct_radiation_instant(W/m²)           Created_Datetime  \n",
       "0                             0.0 2023-10-28 18:19:14.500106  \n",
       "1                             0.0 2023-10-28 18:19:14.500106  \n",
       "2                             0.0 2023-10-28 18:19:14.500106  \n",
       "3                             0.0 2023-10-28 18:19:14.500106  \n",
       "4                             0.0 2023-10-28 18:19:14.500106  "
      ]
     },
     "execution_count": 21,
     "metadata": {},
     "output_type": "execute_result"
    }
   ],
   "source": [
    "df_forecasted.head()"
   ]
  },
  {
   "cell_type": "markdown",
   "id": "2032a0e4-9f42-4e00-9671-8920ccb73413",
   "metadata": {},
   "source": [
    "## Checking the df"
   ]
  },
  {
   "cell_type": "code",
   "execution_count": 22,
   "id": "1e4af2b9-44a4-4ecf-ade5-0563a8ee485e",
   "metadata": {
    "tags": []
   },
   "outputs": [
    {
     "data": {
      "text/plain": [
       "Datetime                          0\n",
       "Latitude                          0\n",
       "Longitude                         0\n",
       "Location                          0\n",
       "TimeZone                          0\n",
       "Temperature(°C)                   0\n",
       "Dewpoint(°C)                      0\n",
       "Apparent_Temperature(°C)          0\n",
       "Precipitation(mm)                 0\n",
       "Rain(mm)                          0\n",
       "Snowfall(cm)                      0\n",
       "Cloudcover(%)                     0\n",
       "Windspeed(km/h)                   0\n",
       "Winddirection(°)                  0\n",
       "Windgusts(km/h)                   0\n",
       "Is_day                            0\n",
       "Shortwave_radiation(W/m²)         0\n",
       "Direct_radiation(W/m²)            0\n",
       "Direct_radiation_instant(W/m²)    0\n",
       "Created_Datetime                  0\n",
       "dtype: int64"
      ]
     },
     "execution_count": 22,
     "metadata": {},
     "output_type": "execute_result"
    }
   ],
   "source": [
    "# Checking if there are any null values in the df:\n",
    "\n",
    "df_forecasted.isnull().sum()"
   ]
  },
  {
   "cell_type": "code",
   "execution_count": 23,
   "id": "b4a1f8ef-e140-4923-a6f1-c3cf8b1e9691",
   "metadata": {
    "tags": []
   },
   "outputs": [
    {
     "data": {
      "text/plain": [
       "DatetimeIndex(['2023-10-18', '2023-10-19', '2023-10-20', '2023-10-21',\n",
       "               '2023-10-22', '2023-10-23', '2023-10-24', '2023-10-25',\n",
       "               '2023-10-26', '2023-10-27', '2023-10-28', '2023-10-29',\n",
       "               '2023-10-30', '2023-10-31', '2023-11-01', '2023-11-02',\n",
       "               '2023-11-03'],\n",
       "              dtype='datetime64[ns]', freq='D')"
      ]
     },
     "execution_count": 23,
     "metadata": {},
     "output_type": "execute_result"
    }
   ],
   "source": [
    "# Setting the date range \n",
    "\n",
    "dates = pd.date_range(df_forecasted['Datetime'].min().date(), df_forecasted['Datetime'].max().date(), freq='D')\n",
    "dates"
   ]
  },
  {
   "cell_type": "code",
   "execution_count": 24,
   "id": "e4d4d9fe-6211-46a6-91ed-0ed69f6b750f",
   "metadata": {
    "tags": []
   },
   "outputs": [
    {
     "name": "stdout",
     "output_type": "stream",
     "text": [
      "We have all records\n"
     ]
    }
   ],
   "source": [
    "# Checking if we have weather intormations for each hour in the selected daterange\n",
    "\n",
    "no_of_days = len(dates)\n",
    "\n",
    "no_of_hours_total = no_of_days * 24\n",
    "\n",
    "df_rows = df_forecasted.shape[0]\n",
    "\n",
    "no_of_hours_total\n",
    "\n",
    "if no_of_hours_total == df_rows:\n",
    "    print('We have all records')\n",
    "else:\n",
    "    print('Some records are missing!')"
   ]
  },
  {
   "cell_type": "markdown",
   "id": "1b8f3800-292f-4e38-bcf8-77bb28847e0b",
   "metadata": {},
   "source": [
    "## Exporting to csv"
   ]
  },
  {
   "cell_type": "code",
   "execution_count": 28,
   "id": "0c64dbab-a967-412c-8697-34ed341c8ecc",
   "metadata": {},
   "outputs": [],
   "source": [
    "df_forecasted.to_csv('OpenMeteo_ForecastedWether_Data_Last10Days.csv', index=False)"
   ]
  }
 ],
 "metadata": {
  "kernelspec": {
   "display_name": "Python 3 (ipykernel)",
   "language": "python",
   "name": "python3"
  },
  "language_info": {
   "codemirror_mode": {
    "name": "ipython",
    "version": 3
   },
   "file_extension": ".py",
   "mimetype": "text/x-python",
   "name": "python",
   "nbconvert_exporter": "python",
   "pygments_lexer": "ipython3",
   "version": "3.11.4"
  }
 },
 "nbformat": 4,
 "nbformat_minor": 5
}
